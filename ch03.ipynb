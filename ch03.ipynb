{
 "cells": [
  {
   "cell_type": "markdown",
   "id": "63a73c0c-24e3-47c4-bc0a-929fa25eb505",
   "metadata": {},
   "source": [
    "If stocks are uncorrelated and each stock has a volatility of $\\sigma$, then the equally weights portfolio risk is $\\sigma_P=\\frac{\\sigma}{\\sqrt{N}}$\n",
    "\n",
    "For 1 stock:\n",
    "$$\\sigma_P=\\sigma$$\n",
    "\n",
    "For 2 stocks:\n",
    "$$\n",
    "\\begin{align*}\n",
    "    \\sigma_P\n",
    "    &= \\left( \\frac{\\sigma^2}{2^2} + \\frac{\\sigma^2}{2^2} + \\frac{2\\rho_{1,2}}{2^2} \\right)^\\frac{1}{2}\n",
    "    \\\\ &= \\left( \\frac{\\sigma^2}{2} \\right)^\\frac{1}{2}\n",
    "    \\\\ &= \\frac{\\sigma}{\\sqrt{2}}\n",
    "\\end{align*}\n",
    "$$\n",
    "\n",
    "For n stocks:\n",
    "$$\\sigma^2_P=\\sum^n_i\\sum^n_jw_iw_jCov(i,j)$$\n",
    "\n",
    "But we know that when $i\\ne j$ that $Cov(i,j)=0$ and when $i=j$ then $Cov(i,j)=Var(i)=Var(j)=\\sigma$. We also know $w_i=w_j=\\frac{1}{n}$ by definition of an equally weighted portfolio. Thus we can simplify to the following:\n",
    "$$\n",
    "\\begin{align*}\n",
    "    \\sigma^2_P\n",
    "    &= \\sum^n_i{w^2_iVar(i)}\n",
    "    \\\\ &= \\sum^n_i{w^2_i\\sigma}\n",
    "    \\\\ &= n \\frac{\\sigma^2}{n^2}\n",
    "    \\\\ &= \\frac{\\sigma^2}{n}\n",
    "    \\\\ \\sigma_P\n",
    "    &= \\frac{\\sigma}{\\sqrt{n}}\n",
    "\\end{align*}\n",
    "$$\n",
    "\n",
    "The _average risk_  is $\\sigma$ while the _portfolio risk_ is $\\frac{\\sigma}{\\sqrt{n}}$"
   ]
  },
  {
   "cell_type": "markdown",
   "id": "e86f6a4e-09ec-4f38-a47b-e263513b461b",
   "metadata": {},
   "source": [
    "Rather than assume stocks have zero correlation, assume they all have a correlation of $\\rho$ with each other. Each stock still has risk of $\\sigma$, but now the portfolio's risk is a determined by more than just the number of assets:\n",
    "$$\\sigma_P=\\sigma\\sqrt{\\frac{1 + \\rho(n-1)}{n}}$$\n",
    "\n",
    "And as the number of stocks goes to infinity:\n",
    "$$\\lim_{n \\to \\infty} \\sigma_P=\\sigma\\sqrt{\\rho}$$"
   ]
  },
  {
   "cell_type": "markdown",
   "id": "8c27d496-2f82-48fa-8e9f-71933dd1c49a",
   "metadata": {},
   "source": [
    "__Relating Annual and Monthly Risk:__\n",
    "\n",
    "Because the autocorrelation of stock prices is zero, we can relate the variance from two different time periods. Consider one time period one month and the other one year. If we know the variance of one of these periods, then do we know the variance for the other?\n",
    "\n",
    "It seems: $\\sigma^2_{annually}=12\\cdot\\sigma^2_{monthly}$\n",
    "\n",
    "I believe this is something inherent to time series random variables. Imagine a random walk, where each step is indentical and independent of the last. While we expect the variable to end up in the location that it started if it has a 50% change to go +1 and 50% to go -1, the longer we make the time period, the more variability we can have. There must be some way to prove this, and I probably did at one point, but it does make intuitive sense.\n",
    "\n",
    "Thus, if we simplify we get, $\\sigma_{annually}=\\sqrt{12}\\cdot\\sigma_{monthly}$"
   ]
  },
  {
   "cell_type": "markdown",
   "id": "cc52118a-8fe6-4108-aa54-a2e53dfc5811",
   "metadata": {},
   "source": [
    "We call the difference between a benchmark portfolio and (active) manager's portfolio the _active return_. $r_{PA} = r_P - r_B$ where $r_P$ is the portfolio return, $r_B$ is the benchmark return, and $r_{PA}$ is the _active_ return of the portfolio.\n",
    "\n",
    "We define __active risk__ as:\n",
    "$$\\psi_P=Std\\{r_{PA}\\}=Std\\{r_P-r_B\\}$$\n",
    "\n",
    "We sometimes call $\\psi_P$ the _tracking error_ of the portfolio because it describes how well the portfolio can track a benchmark. If $\\psi_P=0$ I believe our portfolio tracks the benchmark perfectly? \n",
    "\n",
    "Another important measure of risk is __residual risk__. Residual risk is the \"risk of the return orthogonal to the systematic return.\" It is the risk in our portfolio that is independent of systematic return.\n",
    "$$\\omega_P=\\sqrt{\\sigma^2_P-\\beta^2_P\\sigma^2_B}$$\n",
    "$$ \\beta_P = \\frac{Cov\\{r_P,r_B\\}}{Var\\{r_B\\}}$$"
   ]
  },
  {
   "cell_type": "code",
   "execution_count": 7,
   "id": "0c2765cf-06d9-4382-84d6-3ed245711325",
   "metadata": {},
   "outputs": [],
   "source": [
    "import numpy as np\n",
    "import seaborn as sns\n",
    "# Graphing:\n",
    "# Min x1(.0625x1 + .0625x2) + x2(.0625x1 + .25x2)\n",
    "# S.T. x1+x2=1, x1>=0, x2>=0"
   ]
  },
  {
   "cell_type": "code",
   "execution_count": 8,
   "id": "78c84167-6780-4428-a8f3-d2ee54c7496b",
   "metadata": {},
   "outputs": [],
   "source": [
    "n = 100\n",
    "w1 = np.linspace(0, 1, n)\n",
    "risk = np.zeros(n)\n",
    "\n",
    "for i in range(n):\n",
    "    risk[i] = w1[i]*(.0625*w1[i] + .0625*(1-w1[i])) + (1-w1[i])*(.0625*w1[i] + .25*(1-w1[i]))"
   ]
  },
  {
   "cell_type": "code",
   "execution_count": 9,
   "id": "cfdff494-88ed-4a35-a98d-45e10d4e4d09",
   "metadata": {},
   "outputs": [
    {
     "data": {
      "text/plain": [
       "<AxesSubplot:>"
      ]
     },
     "execution_count": 9,
     "metadata": {},
     "output_type": "execute_result"
    },
    {
     "data": {
      "image/png": "[encoded data removed]",
      "text/plain": [
       "<Figure size 432x288 with 1 Axes>"
      ]
     },
     "metadata": {
      "needs_background": "light"
     },
     "output_type": "display_data"
    }
   ],
   "source": [
    "sns.lineplot(data=risk)"
   ]
  },
  {
   "cell_type": "code",
   "execution_count": 10,
   "id": "d462f023-4502-472e-a90f-3bd6c47b9388",
   "metadata": {},
   "outputs": [
    {
     "data": {
      "text/plain": [
       "0.0625"
      ]
     },
     "execution_count": 10,
     "metadata": {},
     "output_type": "execute_result"
    }
   ],
   "source": [
    "np.min(risk) #when x1=1 and x2=0"
   ]
  },
  {
   "cell_type": "markdown",
   "id": "e3eacd65-4f45-4189-a3bf-86e5c9c8f312",
   "metadata": {},
   "source": [
    "### Technical Appendix"
   ]
  },
  {
   "cell_type": "markdown",
   "id": "dc43c0c7-e7ea-41b0-8d00-51d0b2faf243",
   "metadata": {},
   "source": [
    "Our goal is to define a risk model in two parts - the first part models returns:\n",
    "$$r=X \\cdot b+ u$$\n",
    "\n",
    "Where $\\textbf{r}$ is a column vector of length $N$ assets, $\\textbf{X}$ is a matrix of shape $N$ assets by $K$ factor exposures, $\\textbf{b}$ is a vector of factor returns of shape $K$, and $\\textbf{u}$ is a vector of specific returns of shape $N$.\n",
    "\n",
    "$$\n",
    "\\begin{equation*}\n",
    "    A_{m,n} = \n",
    "    \\begin{pmatrix}\n",
    "    a_{1,1} & a_{1,2} & \\cdots & a_{1,n} \\\\\n",
    "    a_{2,1} & a_{2,2} & \\cdots & a_{2,n} \\\\\n",
    "    \\vdots  & \\vdots  & \\ddots & \\vdots  \\\\\n",
    "    a_{m,1} & a_{m,2} & \\cdots & a_{m,n} \n",
    "    \\end{pmatrix}\n",
    "\\end{equation*}\n",
    "$$"
   ]
  },
  {
   "cell_type": "code",
   "execution_count": null,
   "id": "7eb608cc-cac0-42cc-a315-e6eeedd1d1eb",
   "metadata": {},
   "outputs": [],
   "source": []
  }
 ],
 "metadata": {
  "kernelspec": {
   "display_name": "Python 3",
   "language": "python",
   "name": "python3"
  },
  "language_info": {
   "codemirror_mode": {
    "name": "ipython",
    "version": 3
   },
   "file_extension": ".py",
   "mimetype": "text/x-python",
   "name": "python",
   "nbconvert_exporter": "python",
   "pygments_lexer": "ipython3",
   "version": "3.9.5"
  }
 },
 "nbformat": 4,
 "nbformat_minor": 5
}
